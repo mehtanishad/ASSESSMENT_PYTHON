{
 "cells": [
  {
   "cell_type": "code",
   "execution_count": 2,
   "id": "0a877f17",
   "metadata": {},
   "outputs": [],
   "source": [
    "import sqlite3 as sql\n",
    "db=sql.connect(\"advancepython.db\")\n",
    "cur=db.cursor()\n",
    "cur.execute(\"create table Banker(Can_Register varchar(50), Can_Login varchar(50))\")"
   ]
  },
  {
   "cell_type": "code",
   "execution_count": null,
   "id": "c1d52ce9",
   "metadata": {},
   "outputs": [
    {
     "name": "stdout",
     "output_type": "stream",
     "text": [
      "1. Banker\n",
      "2. Customer\n"
     ]
    }
   ],
   "source": [
    "import sqlite3 as sql\n",
    "db=sql.connect(\"advancepython.db\")\n",
    "cur=db.cursor()\n",
    "# cur.execute(\"create table Banker(Can_Register varchar(50), Can_Login varchar(50))\")\n",
    "print('''1. Banker\n",
    "2. Customer''')\n",
    "role=int(input(\"Select Your Role: \"))\n",
    "if role==1:\n",
    "    print('''    1. Can Register \n",
    "    2. Can Login \n",
    "    3. Can Update all Customers\n",
    "    4. Can View all Customers\n",
    "    5. Can Delete all Customers''')\n",
    "    \n",
    "    task=int(input(\"Select Your Task: \"))\n",
    "    if task==1:\n",
    "        pass\n",
    "    elif task==2:\n",
    "        pass\n",
    "    elif task==3:\n",
    "        pass\n",
    "    elif task==4:\n",
    "        pass\n",
    "    elif task==5:\n",
    "        pass\n",
    "    else:\n",
    "        print(\"Invalid Input\")\n",
    "elif role==2:\n",
    "    print('''    1. Can Register \n",
    "    2. Can Login \n",
    "    3. Can Withdraw Amount \n",
    "    4. Can deposit amount \n",
    "    5. Can view balance ''')\n",
    "    task=int(input(\"Select Your Task: \"))\n",
    "    if task==1:\n",
    "        name=input(\"Enter Your Name: \")\n",
    "        email=input(\"Enter Your Email: \")\n",
    "        password=input(\"Enter Your Password: \")\n",
    "        query= f'''insert into banker(login_details, amount) values(\"{email}{password}\",\"00\")'''\n",
    "        cur.execute(query)\n",
    "        db.commit()\n",
    "        \n",
    "    elif task==2:\n",
    "        email=input(\"Enter Your Email: \")\n",
    "        password=input(\"Enter Your Password: \")\n",
    "        query= f'''insert into banker(login_details, amount) values(\"{email}{password}\",\"00\")'''\n",
    "        cur.execute(query)\n",
    "        db.commit()\n",
    "    elif task==3:\n",
    "        amount=int(input(\"Enter Your Withdraw Amount: \"))\n",
    "        cur.execute(\"select amount from banker\")\n",
    "        old_amount=cur.fetchall()\n",
    "        old_amount+=amount\n",
    "        query= f'''update banker set amount=\"{old_amount}\" where login_details= \"naresh@gmail.com454545\" '''\n",
    "        cur.execute(query)\n",
    "        db.commit()\n",
    "        \n",
    "    elif task==4:\n",
    "        amount=input(\"Enter Your Deposite Amount: \")\n",
    "        query=f'''update banker set amount'''\n",
    "    elif task==5:\n",
    "        cur.execute(\"select amount from banker\")\n",
    "        new=cur.fetchall()\n",
    "        print(f\"Your Available Balance Is: {new}\")\n",
    "    else:\n",
    "        print(\"Invalid Input\")"
   ]
  },
  {
   "cell_type": "code",
   "execution_count": 5,
   "id": "a9f450ee",
   "metadata": {},
   "outputs": [
    {
     "ename": "OperationalError",
     "evalue": "table Banker already exists",
     "output_type": "error",
     "traceback": [
      "\u001b[1;31m---------------------------------------------------------------------------\u001b[0m",
      "\u001b[1;31mOperationalError\u001b[0m                          Traceback (most recent call last)",
      "Input \u001b[1;32mIn [5]\u001b[0m, in \u001b[0;36m<cell line: 4>\u001b[1;34m()\u001b[0m\n\u001b[0;32m      2\u001b[0m db\u001b[38;5;241m=\u001b[39msql\u001b[38;5;241m.\u001b[39mconnect(\u001b[38;5;124m\"\u001b[39m\u001b[38;5;124madvancepython2.db\u001b[39m\u001b[38;5;124m\"\u001b[39m)\n\u001b[0;32m      3\u001b[0m cur\u001b[38;5;241m=\u001b[39mdb\u001b[38;5;241m.\u001b[39mcursor()\n\u001b[1;32m----> 4\u001b[0m \u001b[43mcur\u001b[49m\u001b[38;5;241;43m.\u001b[39;49m\u001b[43mexecute\u001b[49m\u001b[43m(\u001b[49m\u001b[38;5;124;43m\"\u001b[39;49m\u001b[38;5;124;43mcreate table Banker(login_details varchar(50), amount int(10))\u001b[39;49m\u001b[38;5;124;43m\"\u001b[39;49m\u001b[43m)\u001b[49m\n",
      "\u001b[1;31mOperationalError\u001b[0m: table Banker already exists"
     ]
    }
   ],
   "source": [
    "import sqlite3 as sql\n",
    "db=sql.connect(\"advancepython2.db\")\n",
    "cur=db.cursor()\n",
    "cur.execute(\"create table Banker(login_details varchar(50), amount int(10))\")"
   ]
  },
  {
   "cell_type": "code",
   "execution_count": null,
   "id": "7363baa2",
   "metadata": {},
   "outputs": [],
   "source": []
  }
 ],
 "metadata": {
  "kernelspec": {
   "display_name": "Python 3 (ipykernel)",
   "language": "python",
   "name": "python3"
  },
  "language_info": {
   "codemirror_mode": {
    "name": "ipython",
    "version": 3
   },
   "file_extension": ".py",
   "mimetype": "text/x-python",
   "name": "python",
   "nbconvert_exporter": "python",
   "pygments_lexer": "ipython3",
   "version": "3.9.12"
  }
 },
 "nbformat": 4,
 "nbformat_minor": 5
}
